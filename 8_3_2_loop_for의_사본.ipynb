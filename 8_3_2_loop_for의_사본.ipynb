{
  "nbformat": 4,
  "nbformat_minor": 0,
  "metadata": {
    "colab": {
      "name": "8-3-2.loop-for의 사본",
      "version": "0.3.2",
      "provenance": [],
      "private_outputs": true,
      "collapsed_sections": [],
      "include_colab_link": true
    },
    "kernelspec": {
      "name": "python3",
      "display_name": "Python 3"
    }
  },
  "cells": [
    {
      "cell_type": "markdown",
      "metadata": {
        "id": "view-in-github",
        "colab_type": "text"
      },
      "source": [
        "<a href=\"https://colab.research.google.com/github/wlgPark/PYTHON_public/blob/master/8_3_2_loop_for%EC%9D%98_%EC%82%AC%EB%B3%B8.ipynb\" target=\"_parent\"><img src=\"https://colab.research.google.com/assets/colab-badge.svg\" alt=\"Open In Colab\"/></a>"
      ]
    },
    {
      "cell_type": "markdown",
      "metadata": {
        "id": "USMQFfPMGQBo",
        "colab_type": "text"
      },
      "source": [
        "<font size=7 color='green'>제어문: for 순한문</font>   \n",
        "<font size=5>Control Structures: for Loop</font>\n",
        "<!--\n",
        "<div markdown class='alert alert-block alert-info' align='center' style='font-size: xx-large'>제어문: for 순한문<br/><br/><div align='center' style='font-size: x-large'>Control Structures: for Loop</div></div>\n",
        "-->\n",
        "---\n"
      ]
    },
    {
      "cell_type": "markdown",
      "metadata": {
        "id": "SBKJOUsfCoUy",
        "colab_type": "toc"
      },
      "source": [
        ">[for문의 기본 문법](#scrollTo=1vX91DvSGQBr)\n",
        "\n",
        ">[for문 직접 사용해보기](#scrollTo=ChRHyca7GQBs)\n",
        "\n",
        ">[다양한 순회형(iterable)을 활용해 보기](#scrollTo=SBvrYDPNGQBy)\n",
        "\n",
        ">[원하는 만큼 for문 반복하기](#scrollTo=hq_YeIHVGQCO)\n",
        "\n",
        ">[중첩 for문 구성하기](#scrollTo=1sl3jIkXGQCS)\n",
        "\n"
      ]
    },
    {
      "cell_type": "markdown",
      "metadata": {
        "id": "1vX91DvSGQBr",
        "colab_type": "text"
      },
      "source": [
        " # for문의 기본 문법\n",
        " \n",
        "```code\n",
        "for 변수 in 순회형(iterable):\n",
        "     for-명령문\n",
        "else:\n",
        "     else-명령문\n",
        "```  \n",
        "\n",
        "\n",
        "1. <변수>는 <순회형> 자료의 제일 앞에 있는 객체를 할당 받는다.\n",
        "    - <변수>는 하나의 변수일 수도 있고 복합 변수일 수도 있다.\n",
        "        - 복합 변수인 경우 주로 튜플을 사용한다.\n",
        "1. <for-명령문>을 실행한다.\n",
        "1. <변수>는 이전에 받은 객체의 바로 다음 객체를 할당 받는다.\n",
        "1. <for-명령문>을 실행한다.\n",
        "1. ... 반복 ...\n",
        "1. 최종적으로 <순회형>의 마지막 객체까지 <변수>에 할당되면, for문을 종료하고 <else-명령문>을 실행한다.\n",
        "    - 다음의 경우에는 **else**문이 실행되지 않는다.\n",
        "        - **for**문이 **break** 또는 **return**에 의해 종료된 경우\n",
        "        - **for**문 실행 중 **예외(exception)**가 발생한 경우\n",
        "1. <else-명령문>을 실행한 후, **for**문이 종료된다.  \n",
        "\n",
        "**[참고]** **else**는 선택사항이다."
      ]
    },
    {
      "cell_type": "markdown",
      "metadata": {
        "id": "ChRHyca7GQBs",
        "colab_type": "text"
      },
      "source": [
        "# for문 직접 사용해보기\n",
        "\n",
        "- 0~9까지 들어있는 리스트를 작성한다.\n",
        "- 이 리스트에 들어있는 값을 하나씩 가져와서, (값 x 10)을 한 결과를 출력한다.  \n",
        "\n",
        "**힌트**  \n",
        "- **for 변수 in 순회형:** 구문에서 <변수>는 <순회형> 자료에 들어있는 객채의 실제 값(value)을 가져온다. \n",
        "    - <변수>가 색인(index) 값을 가져오는 것이 아님을 명심하자.  \n"
      ]
    },
    {
      "cell_type": "markdown",
      "metadata": {
        "id": "BMhqZw-gZnhK",
        "colab_type": "text"
      },
      "source": [
        "\n",
        "---\n",
        "__<실행 예시>__\n",
        "```code\n",
        "> python simple_for.py \n",
        "0\n",
        "10\n",
        "20\n",
        "30\n",
        "40\n",
        "50\n",
        "60\n",
        "70\n",
        "80\n",
        "90\n",
        "> \n",
        "```\n"
      ]
    },
    {
      "cell_type": "markdown",
      "metadata": {
        "id": "EF9ZLBzEGQBs",
        "colab_type": "text"
      },
      "source": [
        "--- \n",
        "\n",
        "**<코드 예시>** : \\_\\_?????\\_\\_를 채운다.\n",
        "\n",
        "```python\n",
        "L = __?????__\n",
        "\n",
        "for i in L:\n",
        "    __?????__\n",
        "```"
      ]
    },
    {
      "cell_type": "code",
      "metadata": {
        "id": "nN3NjFRcGQBt",
        "colab_type": "code",
        "colab": {}
      },
      "source": [
        "# ===== Your answer (simple_for.py) ======= #\n",
        "# --- for문 직접 사용해보기\n",
        "\n",
        "# Your code here\n",
        "L = range(10)\n",
        "for i in L:\n",
        "  print(L[i]*10)"
      ],
      "execution_count": 0,
      "outputs": []
    },
    {
      "cell_type": "markdown",
      "metadata": {
        "id": "SBvrYDPNGQBy",
        "colab_type": "text"
      },
      "source": [
        "# 다양한 순회형(iterable)을 활용해 보기\n",
        "\n",
        "- 다음과 같은 6가지 자료형을 생성한다.  \n",
        "\n",
        "```code\n",
        "adict = {'a': 1,'b': 2,'c': 3, 'd': 4, 'e': 5}\n",
        "atuple = (0, 1, 2, 3, 4)\n",
        "alist = [5, 6, 7, 8, 9]\n",
        "aset = set(['가', '나', '다', '라', '마'])\n",
        "text = 'Hello Python!'\n",
        "num = 10\n",
        "```\n",
        "\n",
        "- 각 자료형을 **for**문에 적용하여, **for**문의 전달인자를 출력해보자.\n",
        "    - **for**문의 전달인자는 **for 변수 in 순회형:**에서 <변수>를 의미한다.\n",
        "    - 출력 형식은 자유롭게 선택한다.\n",
        "- 자료형에 따라 어떠한 전달인자가 선택되는지 비교해 본다. \n"
      ]
    },
    {
      "cell_type": "markdown",
      "metadata": {
        "id": "xKhqjVTaxDXo",
        "colab_type": "text"
      },
      "source": [
        "---   \n",
        "**<실행 예시>**\n",
        "\n",
        "```code\n",
        "> python for_iterables.py \n",
        "a/b/c/d/e/\n",
        "1/2/3/4/5/\n",
        "0/1/2/3/4/\n",
        "5/6/7/8/9/\n",
        "가/마/나/다/라/\n",
        "H/e/l/l/o/ /P/y/t/h/o/n/!/\n",
        "Traceback (most recent call last):\n",
        "  File \"for_iterables.py\", line 84, in <module>\n",
        "    for x in num:\n",
        "TypeError: 'int' object is not iterable\n",
        ">\n",
        "```"
      ]
    },
    {
      "cell_type": "code",
      "metadata": {
        "id": "EklRWPKFyMO7",
        "colab_type": "code",
        "colab": {}
      },
      "source": [
        "# ===== Your answer (for_iterables.py) ======= #\n",
        "# --- 다양한 순회형(iterable)을 활용해 보기 \n",
        "\n",
        "adict = {'a': 1,'b': 2,'c': 3, 'd': 4, 'e': 5}\n",
        "atuple = (0, 1, 2, 3, 4)\n",
        "alist = [5, 6, 7, 8, 9]\n",
        "aset = set(['가', '나', '다', '라', '마'])\n",
        "text = 'Hello Python!'\n",
        "num = 10"
      ],
      "execution_count": 0,
      "outputs": []
    },
    {
      "cell_type": "markdown",
      "metadata": {
        "id": "dkHJ76_53GCV",
        "colab_type": "text"
      },
      "source": [
        "---\n",
        "**<코드 예시>** : \\_\\_?????\\_\\_를 채운다.  \n",
        "\n",
        "딕셔너리의 <font color=red>키</font>를 출력한다.\n",
        "\n",
        "```python\n",
        "adict = {'a': 1,'b': 2,'c': 3, 'd': 4, 'e': 5}\n",
        "for i in __?????__:\n",
        "    print(__?????__, end='/')\n",
        "```"
      ]
    },
    {
      "cell_type": "markdown",
      "metadata": {
        "id": "SCC3qva3zFB3",
        "colab_type": "text"
      },
      "source": [
        ""
      ]
    },
    {
      "cell_type": "code",
      "metadata": {
        "id": "l24YoTLmzFrj",
        "colab_type": "code",
        "colab": {}
      },
      "source": [
        "# 딕셔너리\n",
        "adict = {'a': 1,'b': 2,'c': 3, 'd': 4, 'e': 5}\n",
        "\n",
        "# 전달인자는 딕셔너리의 키(key)\n",
        "# Your code here\n",
        "adict_key = list(adict.keys())\n",
        "for i in range(len(adict_key)):\n",
        "  print(adict_key[i],end='/')"
      ],
      "execution_count": 0,
      "outputs": []
    },
    {
      "cell_type": "code",
      "metadata": {
        "id": "NEL0GhcQpu5Y",
        "colab_type": "code",
        "colab": {}
      },
      "source": [
        "# 딕셔너리\n",
        "adict = {'a': 1,'b': 2,'c': 3, 'd': 4, 'e': 5}\n",
        "\n",
        "# 전달인자는 딕셔너리의 키(key)\n",
        "# Your code here\n",
        "adict_key = list(adict.keys())\n",
        "for i in adict.keys():\n",
        "  print(adict.get(i),end='/')"
      ],
      "execution_count": 0,
      "outputs": []
    },
    {
      "cell_type": "code",
      "metadata": {
        "id": "cOvbM1CaqKOY",
        "colab_type": "code",
        "colab": {}
      },
      "source": [
        "# 딕셔너리\n",
        "adict = {'a': 1,'b': 2,'c': 3, 'd': 4, 'e': 5}\n",
        "\n",
        "# 전달인자는 딕셔너리의 키(key)\n",
        "# Your code here\n",
        "adict_key = list(adict.keys())\n",
        "for i in adict:\n",
        "  print(i,end='/')"
      ],
      "execution_count": 0,
      "outputs": []
    },
    {
      "cell_type": "markdown",
      "metadata": {
        "id": "qhxlTOb4GQB0",
        "colab_type": "text"
      },
      "source": [
        "---  \n",
        "**<코드 예시>** : \\_\\_?????\\_\\_를 채운다.\n",
        "\n",
        "딕셔너리의 <font color=red>매핑값</font>을 출력한다.\n",
        "\n",
        "```python\n",
        "adict = {'a': 1,'b': 2,'c': 3, 'd': 4, 'e': 5}\n",
        "for i in __?????__:\n",
        "    print(__?????__, end='/')\n",
        "```"
      ]
    },
    {
      "cell_type": "code",
      "metadata": {
        "id": "OomDJVxVGQB0",
        "colab_type": "code",
        "colab": {}
      },
      "source": [
        "# 딕셔너리\n",
        "adict = {'a': 1,'b': 2,'c': 3, 'd': 4, 'e': 5}\n",
        "\n",
        "# 전달인자는 딕셔너리의 매핑값(value)\n",
        "# Your code here\n",
        "for i in adict:\n",
        "  print(adict.get(i),end='/')"
      ],
      "execution_count": 0,
      "outputs": []
    },
    {
      "cell_type": "code",
      "metadata": {
        "id": "r0WSGT-8qiVX",
        "colab_type": "code",
        "colab": {}
      },
      "source": [
        "# 딕셔너리\n",
        "adict = {'a': 1,'b': 2,'c': 3, 'd': 4, 'e': 5}\n",
        "\n",
        "# 전달인자는 딕셔너리의 매핑값(value)\n",
        "# Your code here\n",
        "for i in adict.values():\n",
        "  print(i,end='/')"
      ],
      "execution_count": 0,
      "outputs": []
    },
    {
      "cell_type": "code",
      "metadata": {
        "id": "v8tF7Q87qpMo",
        "colab_type": "code",
        "colab": {}
      },
      "source": [
        "# 딕셔너리\n",
        "adict = {'a': 1,'b': 2,'c': 3, 'd': 4, 'e': 5}\n",
        "\n",
        "# 전달인자는 딕셔너리의 매핑값(value)\n",
        "# Your code here\n",
        "for i in adict.items():\n",
        "  print(i,end='/')"
      ],
      "execution_count": 0,
      "outputs": []
    },
    {
      "cell_type": "code",
      "metadata": {
        "id": "RAA6lPeFqvEA",
        "colab_type": "code",
        "colab": {}
      },
      "source": [
        "# 딕셔너리\n",
        "adict = {'a': 1,'b': 2,'c': 3, 'd': 4, 'e': 5}\n",
        "\n",
        "# 전달인자는 딕셔너리의 매핑값(value)\n",
        "# Your code here\n",
        "for k,v in adict.items():\n",
        "  print(k,'>=',v,end='/')"
      ],
      "execution_count": 0,
      "outputs": []
    },
    {
      "cell_type": "markdown",
      "metadata": {
        "id": "Vet5My9xGQB3",
        "colab_type": "text"
      },
      "source": [
        "---\n",
        "**<코드 예시>** : \\_\\_?????\\_\\_를 채운다.\n",
        "\n",
        "```python\n",
        "atuple = (0, 1, 2, 3, 4)\n",
        "for i in __?????__:\n",
        "    print(__?????__, end='/')\n",
        "```"
      ]
    },
    {
      "cell_type": "code",
      "metadata": {
        "id": "y9m1G6yDGQB3",
        "colab_type": "code",
        "colab": {}
      },
      "source": [
        "# 튜플\n",
        "atuple = (0, 1, 2, 3, 4)\n",
        "\n",
        "# Your code here\n",
        "for i in atuple:\n",
        "  print(i,end='/')"
      ],
      "execution_count": 0,
      "outputs": []
    },
    {
      "cell_type": "markdown",
      "metadata": {
        "id": "8QZcNhCLGQB7",
        "colab_type": "text"
      },
      "source": [
        "---\n",
        "**<코드 예시>** : \\_\\_?????\\_\\_를 채운다.\n",
        "\n",
        "```python\n",
        "alist = [5, 6, 7, 8, 9]\n",
        "for i in __?????__:\n",
        "    print(__?????__x, end='/')\n",
        "```"
      ]
    },
    {
      "cell_type": "code",
      "metadata": {
        "id": "MwC686vJGQB7",
        "colab_type": "code",
        "colab": {}
      },
      "source": [
        "# 리스트\n",
        "alist = [5, 6, 7, 8, 9]\n",
        "\n",
        "# Your code here\n",
        "for i in alist:\n",
        "  print(i,end='/')"
      ],
      "execution_count": 0,
      "outputs": []
    },
    {
      "cell_type": "markdown",
      "metadata": {
        "id": "1mMH11ilGQB_",
        "colab_type": "text"
      },
      "source": [
        "---\n",
        "**<코드 예시>** : \\_\\_?????\\_\\_를 채운다.\n",
        "\n",
        "```python\n",
        "aset = set(['가', '나', '다', '라', '마'])\n",
        "for i in __?????__:\n",
        "    print(__?????__, end='/')\n",
        "```"
      ]
    },
    {
      "cell_type": "code",
      "metadata": {
        "id": "IByI6G-4GQCA",
        "colab_type": "code",
        "colab": {}
      },
      "source": [
        "# 세트\n",
        "aset = set(['가', '나', '다', '라', '마'])\n",
        "\n",
        "# Your code here\n",
        "for i in aset:\n",
        "  print(i,end='/')"
      ],
      "execution_count": 0,
      "outputs": []
    },
    {
      "cell_type": "markdown",
      "metadata": {
        "id": "2mLxMeJ1GQCD",
        "colab_type": "text"
      },
      "source": [
        "---\n",
        "**<코드 예시>** : \\_\\_?????\\_\\_를 채운다.\n",
        "\n",
        "```python\n",
        "text = 'Hello Python!'\n",
        "for i in __?????__:\n",
        "    print(__?????__, end='/')\n",
        "```"
      ]
    },
    {
      "cell_type": "code",
      "metadata": {
        "id": "6DtSsZN3GQCE",
        "colab_type": "code",
        "colab": {}
      },
      "source": [
        "# 문자열\n",
        "text = 'Hello Python!'\n",
        "\n",
        "# Your code here\n",
        "for i in text:\n",
        "  print(i,end='/')"
      ],
      "execution_count": 0,
      "outputs": []
    },
    {
      "cell_type": "markdown",
      "metadata": {
        "id": "ZxXtFcKVGQCH",
        "colab_type": "text"
      },
      "source": [
        "---\n",
        "**<코드 예시>** : \\_\\_?????\\_\\_를 채운다.\n",
        "\n",
        "```python\n",
        "num = 10\n",
        "for i in __?????__:\n",
        "    print(__?????__, end='/')\n",
        "```"
      ]
    },
    {
      "cell_type": "code",
      "metadata": {
        "id": "jvYEDV_XGQCH",
        "colab_type": "code",
        "colab": {}
      },
      "source": [
        "# 숫자\n",
        "num = 10\n",
        "\n",
        "# Your code here\n",
        "for i in num:\n",
        "  print(i,end='/')"
      ],
      "execution_count": 0,
      "outputs": []
    },
    {
      "cell_type": "markdown",
      "metadata": {
        "id": "hq_YeIHVGQCO",
        "colab_type": "text"
      },
      "source": [
        "# 원하는 만큼 for문 반복하기\n",
        "\n",
        "- 임의의 정수 *n*을 입력 받는다. \n",
        "- **print()** 함수를 활용하여 높이와 밑변을 *n*으로 갖는, 직각 삼각형을 그려보자. \n",
        "\n",
        "\n",
        "**(힌트)**\n",
        "- **range()** 함수를 활용하자.\n",
        "- **print('#' * 정수)**를 활용하자. \n"
      ]
    },
    {
      "cell_type": "markdown",
      "metadata": {
        "id": "cfWjclFe7Vzn",
        "colab_type": "text"
      },
      "source": [
        "--- \n",
        "**<실행 예시>**\n",
        "\n",
        "```code\n",
        "> python right_triangle.py \n",
        "반복 횟수를 입력하세요: 5\n",
        "# \n",
        "# # \n",
        "# # # \n",
        "# # # # \n",
        "# # # # # \n",
        "> \n",
        "```"
      ]
    },
    {
      "cell_type": "markdown",
      "metadata": {
        "id": "KElDmRdGGQCP",
        "colab_type": "text"
      },
      "source": [
        "---   \n",
        "**<코드 예시>** : \\_\\_?????\\_\\_를 채운다.\n",
        "\n",
        "```python\n",
        "n = int(input('반복 횟수를 입력하세요: '))\n",
        "\n",
        "for i in __?????__:\n",
        "    __?????__\n",
        "```"
      ]
    },
    {
      "cell_type": "code",
      "metadata": {
        "id": "HBMQomOQGQCP",
        "colab_type": "code",
        "colab": {}
      },
      "source": [
        "# ===== Your answer (right_triangle.py) ======= #\n",
        "# --- 원하는 만큼 for문 반복하기\n",
        "\n",
        "# Your code here\n",
        "n = int(input('반복 횟수를 입력하세요: '))\n",
        "for i in range(n):\n",
        "  print('#'*(i+1))"
      ],
      "execution_count": 0,
      "outputs": []
    },
    {
      "cell_type": "markdown",
      "metadata": {
        "id": "1sl3jIkXGQCS",
        "colab_type": "text"
      },
      "source": [
        "# 중첩 for문 구성하기\n",
        "\n",
        "- 다음과 같이 자료형을 구성한다.\n",
        "\n",
        "```python\n",
        "color = ['하얗고', '까맣고', '빨갛고', '노랗고']\n",
        "taste = ['달콤한', '짭짤한', '매콤한', '고소한']\n",
        "food = ['라면', '피자', '치킨', '햄버거']\n",
        "```\n",
        "\n",
        "- **color + taste + food** 형식으로 표현 가능한 모든 음식을 출력해보자.\n",
        "    - 예시) 빨갛고 달콤한 햄버거, 까맣고 고소한 치킨 ... 등\n"
      ]
    },
    {
      "cell_type": "markdown",
      "metadata": {
        "id": "giaxtyjjXsUa",
        "colab_type": "text"
      },
      "source": [
        "---\n",
        "**<실행 예시>**\n",
        "\n",
        "```code\n",
        "> python nested_for.py \n",
        "하얗고 달콤한 라면\n",
        "하얗고 달콤한 피자\n",
        "하얗고 달콤한 치킨\n",
        "하얗고 달콤한 햄버거\n",
        "하얗고 짭짤한 라면\n",
        "하얗고 짭짤한 피자\n",
        "...\n",
        "노랗고 매콤한 치킨\n",
        "노랗고 매콤한 햄버거\n",
        "노랗고 고소한 라면\n",
        "노랗고 고소한 피자\n",
        "노랗고 고소한 치킨\n",
        "노랗고 고소한 햄버거\n",
        ">\n",
        "```"
      ]
    },
    {
      "cell_type": "markdown",
      "metadata": {
        "id": "nx8dJ6tpGQCT",
        "colab_type": "text"
      },
      "source": [
        "---   \n",
        "**<코드 예시>** : \\_\\_?????\\_\\_를 채운다.\n",
        "\n",
        "```python\n",
        "color = ['하얗고', '까맣고', '빨갛고', '노랗고']\n",
        "taste = ['달콤한', '짭짤한', '매콤한', '고소한']\n",
        "food = ['라면', '피자', '치킨', '햄버거']\n",
        "\n",
        "for c in __?????__:\n",
        "    for t in __?????__:\n",
        "        for f in __?????__:\n",
        "            print('{} {} {}'.format(c, t, f))\n",
        "```"
      ]
    },
    {
      "cell_type": "code",
      "metadata": {
        "id": "FL40QC1iGQCU",
        "colab_type": "code",
        "colab": {}
      },
      "source": [
        "# ===== Your answer (nested_for.py) ======= #\n",
        "# --- 중첩 for문 구성하기\n",
        "\n",
        "# Your code here\n",
        "color = ['하얗고', '까맣고', '빨갛고', '노랗고']\n",
        "taste = ['달콤한', '짭짤한', '매콤한', '고소한']\n",
        "food = ['라면', '피자', '치킨', '햄버거']\n",
        "\n",
        "for c in color:\n",
        "    for t in taste:\n",
        "        for f in food:\n",
        "            print('{} {} {}'.format(c, t, f))\n"
      ],
      "execution_count": 0,
      "outputs": []
    },
    {
      "cell_type": "markdown",
      "metadata": {
        "id": "c6q79_B2GQCY",
        "colab_type": "text"
      },
      "source": [
        "---\n",
        "<font size=5 color='red'>THE END</font>\n",
        "<!--\n",
        "<div class='alert alert-group alert-warning' align=center style='font-size: x-large'>THE END</div>\n",
        "-->"
      ]
    }
  ]
}