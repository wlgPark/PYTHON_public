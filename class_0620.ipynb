{
 "cells": [
  {
   "cell_type": "markdown",
   "metadata": {},
   "source": [
    "# Hello Python!\n",
    "# Lotte Big data class in SNU (19.05.09 ~ )\n"
   ]
  },
  {
   "cell_type": "markdown",
   "metadata": {},
   "source": [
    "## 2019.06.20\n",
    "### 순환문 "
   ]
  },
  {
   "cell_type": "code",
   "execution_count": 14,
   "metadata": {},
   "outputs": [
    {
     "name": "stdout",
     "output_type": "stream",
     "text": [
      "1\n",
      "3\n",
      "5\n",
      "7\n",
      "9\n"
     ]
    }
   ],
   "source": [
    "integers = [1,2,3,4,5,6,7,8,9,10]\n",
    "integers = list(range(1,11))\n",
    "i=0\n",
    "while i<len(integers):\n",
    "    if integers[i]%2!=0:\n",
    "        print(integers[i])\n",
    "    i+=1    \n"
   ]
  },
  {
   "cell_type": "code",
   "execution_count": 17,
   "metadata": {},
   "outputs": [
    {
     "name": "stdout",
     "output_type": "stream",
     "text": [
      "[1, 2, 3, 4, 5, 6, 7, 8, 9, 10]\n"
     ]
    }
   ],
   "source": [
    "print(list(range(1,11)))"
   ]
  },
  {
   "cell_type": "code",
   "execution_count": 20,
   "metadata": {},
   "outputs": [
    {
     "name": "stdout",
     "output_type": "stream",
     "text": [
      "pink\n",
      "purple\n"
     ]
    }
   ],
   "source": [
    "colors = ['red','blue','pink','green','yellow','purple']\n",
    "i=0\n",
    "while i<len(colors):\n",
    "    if colors[i].count('p')!=0:\n",
    "        print(colors[i])\n",
    "    i+=1"
   ]
  },
  {
   "cell_type": "code",
   "execution_count": 21,
   "metadata": {},
   "outputs": [
    {
     "data": {
      "text/plain": [
       "['p', 'i', 'n', 'k']"
      ]
     },
     "execution_count": 21,
     "metadata": {},
     "output_type": "execute_result"
    }
   ],
   "source": [
    "list('pink')"
   ]
  },
  {
   "cell_type": "code",
   "execution_count": 24,
   "metadata": {},
   "outputs": [
    {
     "name": "stdout",
     "output_type": "stream",
     "text": [
      "pink\n",
      "purple\n"
     ]
    }
   ],
   "source": [
    "colors = ['red','blue','pink','green','yellow','purple']\n",
    "i=0\n",
    "while i<len(colors):\n",
    "    a = list(colors[i])\n",
    "    if a[0]=='p':\n",
    "        print(colors[i])\n",
    "    i+=1"
   ]
  },
  {
   "cell_type": "code",
   "execution_count": 22,
   "metadata": {},
   "outputs": [
    {
     "data": {
      "text/plain": [
       "['b', 'l', 'u', 'e']"
      ]
     },
     "execution_count": 22,
     "metadata": {},
     "output_type": "execute_result"
    }
   ],
   "source": [
    "list(colors[1])"
   ]
  },
  {
   "cell_type": "code",
   "execution_count": null,
   "metadata": {},
   "outputs": [],
   "source": [
    "colors = ['red','blue','pink','green','yellow','purple']\n",
    "i=0\n",
    "while i<len(colors):\n",
    "    if colors[i][0]=='p':\n",
    "        print(colors[i])\n",
    "    i+=1"
   ]
  },
  {
   "cell_type": "markdown",
   "metadata": {},
   "source": [
    "- 화이트스페이스때문에 저렇게 인덱스로 처리하는 것보다 startswith endswith 가 더 좋음 "
   ]
  },
  {
   "cell_type": "code",
   "execution_count": 26,
   "metadata": {},
   "outputs": [
    {
     "name": "stdout",
     "output_type": "stream",
     "text": [
      "purple\n"
     ]
    }
   ],
   "source": [
    "colors = ['red','blue','pink','green','yellow','purple']\n",
    "i=0\n",
    "while i<len(colors):\n",
    "    if colors[i].startswith('p'):\n",
    "        print(colors[i])\n",
    "    i+=1"
   ]
  },
  {
   "cell_type": "code",
   "execution_count": 27,
   "metadata": {},
   "outputs": [
    {
     "name": "stdout",
     "output_type": "stream",
     "text": [
      "10보다 작습니다.\n",
      "10보다 작습니다.\n",
      "10보다 작습니다.\n",
      "10보다 작습니다.\n",
      "10보다 작습니다.\n",
      "10보다 작습니다.\n",
      "10보다 작습니다.\n",
      "10보다 작습니다.\n",
      "10보다 작습니다.\n",
      "10보다 작습니다.\n",
      "종료\n"
     ]
    }
   ],
   "source": [
    "number = 0\n",
    "while number < 10:\n",
    "    print('10보다 작습니다.')\n",
    "    number +=1\n",
    "else:\n",
    "    print('종료')"
   ]
  },
  {
   "cell_type": "code",
   "execution_count": 28,
   "metadata": {},
   "outputs": [
    {
     "data": {
      "text/plain": [
       "1"
      ]
     },
     "execution_count": 28,
     "metadata": {},
     "output_type": "execute_result"
    }
   ],
   "source": [
    "1%9"
   ]
  },
  {
   "cell_type": "markdown",
   "metadata": {},
   "source": [
    "## 여기서 부터 갑자기 코드랩? 이런걸로 하기 시작함...\n",
    "### https://bitly.kr/IXA58p\n",
    "### https://bitly.kr/U7c391\n",
    "- 근데 여기 들어간다음에 막 설정 바꿔주는데 잘 기억이 안나 ㅠㅠ.."
   ]
  },
  {
   "cell_type": "markdown",
   "metadata": {},
   "source": [
    "# 세 정수의 최소 공배수 찾기\n",
    "\n",
    "- 서로 다른 임의의 정수 3개를 입력 받는다.\n",
    "- 이 세 정수의 최소 공배수를 찾아내고, '최소공배수는 *X*입니다.'를 출력하면서 종료한다.\n",
    "    - *X*는 여기서 찾아낸 최소공배수를 의미한다.\n",
    "- 최소공배수(least common multiple)란 2개 이상의 수의 공배수 가운데서 최소인 것을 말한다.\n",
    "    - 공배수란 두 개 이상의 자연수의 공통인 배수를 말한다.\n",
    "    - 예) 2, 3, 9의 최소공배수는 18 \n",
    "    \n",
    "**힌트**: \n",
    "- *i*를 입력 받은 세 수로 각각 나누어 나머지가 모두 0이 될 때까지 연산한다.     \n"
   ]
  },
  {
   "cell_type": "code",
   "execution_count": null,
   "metadata": {},
   "outputs": [],
   "source": [
    "# ===== Your answer (lcm.py) ======= #\n",
    "# --- 세 정수의 최소 공배수 찾기\n",
    "\n",
    "# Your code here\n",
    "x = int(input('첫번째 숫자를 입력하세요: '))\n",
    "y = int(input('두번째 숫자를 입력하세요: '))\n",
    "z = int(input('세번째 숫자를 입력하세요: '))\n",
    "\n",
    "i = 1\n",
    "while (i%x)+(i%y)+(i%z)!=0:\n",
    "    i += 1\n",
    "else:\n",
    "    print('최소공배수는 {}입니다.'.format(i))"
   ]
  },
  {
   "cell_type": "code",
   "execution_count": null,
   "metadata": {},
   "outputs": [],
   "source": [
    "x = int(input('첫번째 숫자를 입력하세요: '))\n",
    "y = int(input('두번째 숫자를 입력하세요: '))\n",
    "z = int(input('세번째 숫자를 입력하세요: '))\n",
    "\n",
    "i = 1\n",
    "while (i%x==0)&(i%y==0)&(i%z==0) == False:\n",
    "    i += 1\n",
    "else:\n",
    "    print('최소공배수는 {}입니다.'.format(i))"
   ]
  },
  {
   "cell_type": "code",
   "execution_count": null,
   "metadata": {},
   "outputs": [],
   "source": [
    "x = int(input('첫번째 숫자를 입력하세요: '))\n",
    "y = int(input('두번째 숫자를 입력하세요: '))\n",
    "z = int(input('세번째 숫자를 입력하세요: '))\n",
    "\n",
    "i = 1\n",
    "while (i%x!=0)or(i%y!=0)or(i%z!=0) == False:\n",
    "    i += 1\n",
    "else:\n",
    "    print('최소공배수는 {}입니다.'.format(i))"
   ]
  },
  {
   "cell_type": "markdown",
   "metadata": {},
   "source": [
    "## FOR 문"
   ]
  },
  {
   "cell_type": "markdown",
   "metadata": {},
   "source": [
    "range() 보다 enumerate(iterable, start = 0) 얘가 더 좋대... 이유는 모르겠으나"
   ]
  },
  {
   "cell_type": "markdown",
   "metadata": {},
   "source": [
    "## 2019.06.27\n",
    "### while 이어서 for문~~ "
   ]
  },
  {
   "cell_type": "code",
   "execution_count": 6,
   "metadata": {},
   "outputs": [
    {
     "name": "stdout",
     "output_type": "stream",
     "text": [
      "[0, 1, 2, 3, 4]\n",
      "[2, 3, 4]\n",
      "[3, 5, 7, 9]\n",
      "[]\n",
      "[10, 8, 6]\n"
     ]
    }
   ],
   "source": [
    "print(list(range(5)))\n",
    "print(list(range(2,5)))\n",
    "print(list(range(3,10,2)))\n",
    "print(list(range(10,3,2)))\n",
    "print(list(range(10,4,-2)))"
   ]
  },
  {
   "cell_type": "code",
   "execution_count": 7,
   "metadata": {},
   "outputs": [],
   "source": [
    "L = [45,-12,5]\n",
    "i = 0 \n",
    "while i < len(L):\n",
    "    L[i] = abs(L[i])\n",
    "    i+=1"
   ]
  },
  {
   "cell_type": "code",
   "execution_count": null,
   "metadata": {},
   "outputs": [],
   "source": [
    "for i in range(len(L)):\n",
    "    L[i] = abs(L[i])"
   ]
  },
  {
   "cell_type": "code",
   "execution_count": 11,
   "metadata": {},
   "outputs": [
    {
     "name": "stdout",
     "output_type": "stream",
     "text": [
      "합은 9\n"
     ]
    }
   ],
   "source": [
    "intergers =[1,3,5]\n",
    "total = 0\n",
    "for item in intergers:\n",
    "    total += item\n",
    "else:\n",
    "    print('합은 {}'.format(total))\n",
    "        "
   ]
  },
  {
   "cell_type": "code",
   "execution_count": 19,
   "metadata": {},
   "outputs": [
    {
     "name": "stdout",
     "output_type": "stream",
     "text": [
      "1\n",
      "3\n",
      "5\n",
      "7\n",
      "9\n"
     ]
    }
   ],
   "source": [
    "integers = list(range(1,11))\n",
    "\n",
    "for i in range(len(integers)):\n",
    "    if integers[i]%2!=0:\n",
    "        print(integers[i])\n"
   ]
  },
  {
   "cell_type": "code",
   "execution_count": 21,
   "metadata": {},
   "outputs": [
    {
     "name": "stdout",
     "output_type": "stream",
     "text": [
      "3\n",
      "5\n",
      "7\n",
      "9\n"
     ]
    },
    {
     "ename": "IndexError",
     "evalue": "list index out of range",
     "output_type": "error",
     "traceback": [
      "\u001b[1;31m---------------------------------------------------------------------------\u001b[0m",
      "\u001b[1;31mIndexError\u001b[0m                                Traceback (most recent call last)",
      "\u001b[1;32m<ipython-input-21-a89121d9f243>\u001b[0m in \u001b[0;36m<module>\u001b[1;34m\u001b[0m\n\u001b[0;32m      2\u001b[0m \u001b[1;33m\u001b[0m\u001b[0m\n\u001b[0;32m      3\u001b[0m \u001b[1;32mfor\u001b[0m \u001b[0mi\u001b[0m \u001b[1;32min\u001b[0m \u001b[0mintegers\u001b[0m\u001b[1;33m:\u001b[0m\u001b[1;33m\u001b[0m\u001b[1;33m\u001b[0m\u001b[0m\n\u001b[1;32m----> 4\u001b[1;33m     \u001b[1;32mif\u001b[0m \u001b[0mintegers\u001b[0m\u001b[1;33m[\u001b[0m\u001b[0mi\u001b[0m\u001b[1;33m]\u001b[0m\u001b[1;33m%\u001b[0m\u001b[1;36m2\u001b[0m\u001b[1;33m!=\u001b[0m\u001b[1;36m0\u001b[0m\u001b[1;33m:\u001b[0m\u001b[1;33m\u001b[0m\u001b[1;33m\u001b[0m\u001b[0m\n\u001b[0m\u001b[0;32m      5\u001b[0m         \u001b[0mprint\u001b[0m\u001b[1;33m(\u001b[0m\u001b[0mintegers\u001b[0m\u001b[1;33m[\u001b[0m\u001b[0mi\u001b[0m\u001b[1;33m]\u001b[0m\u001b[1;33m)\u001b[0m\u001b[1;33m\u001b[0m\u001b[1;33m\u001b[0m\u001b[0m\n",
      "\u001b[1;31mIndexError\u001b[0m: list index out of range"
     ]
    }
   ],
   "source": [
    "integers = [1,2,3,4,5,6,7,8,9,10]\n",
    "\n",
    "for i in integers:\n",
    "    if integers[i]%2!=0:\n",
    "        print(integers[i])\n"
   ]
  },
  {
   "cell_type": "code",
   "execution_count": 20,
   "metadata": {},
   "outputs": [
    {
     "name": "stdout",
     "output_type": "stream",
     "text": [
      "pink\n",
      "purple\n"
     ]
    }
   ],
   "source": [
    "colors = ['red','blue','pink','green','yellow','purple']\n",
    "i=0\n",
    "for i in range(len(colors)):\n",
    "    if colors[i].startswith('p'):\n",
    "        print(colors[i])"
   ]
  },
  {
   "cell_type": "code",
   "execution_count": 24,
   "metadata": {},
   "outputs": [
    {
     "name": "stdout",
     "output_type": "stream",
     "text": [
      "pink\n",
      "purple\n"
     ]
    }
   ],
   "source": [
    "colors = ['red','blue','pink','green','yellow','purple']\n",
    "i=0\n",
    "for color in colors: # color라는 새로운 변수 만듦\n",
    "    if color[i].startswith('p'):\n",
    "        print(color)"
   ]
  },
  {
   "cell_type": "code",
   "execution_count": null,
   "metadata": {},
   "outputs": [],
   "source": []
  },
  {
   "cell_type": "code",
   "execution_count": null,
   "metadata": {},
   "outputs": [],
   "source": []
  },
  {
   "cell_type": "code",
   "execution_count": null,
   "metadata": {},
   "outputs": [],
   "source": []
  },
  {
   "cell_type": "code",
   "execution_count": null,
   "metadata": {},
   "outputs": [],
   "source": []
  },
  {
   "cell_type": "code",
   "execution_count": null,
   "metadata": {},
   "outputs": [],
   "source": []
  },
  {
   "cell_type": "code",
   "execution_count": null,
   "metadata": {},
   "outputs": [],
   "source": []
  },
  {
   "cell_type": "code",
   "execution_count": null,
   "metadata": {},
   "outputs": [],
   "source": []
  },
  {
   "cell_type": "code",
   "execution_count": null,
   "metadata": {},
   "outputs": [],
   "source": []
  },
  {
   "cell_type": "code",
   "execution_count": null,
   "metadata": {},
   "outputs": [],
   "source": []
  },
  {
   "cell_type": "code",
   "execution_count": null,
   "metadata": {},
   "outputs": [],
   "source": []
  }
 ],
 "metadata": {
  "kernelspec": {
   "display_name": "Python 3",
   "language": "python",
   "name": "python3"
  },
  "language_info": {
   "codemirror_mode": {
    "name": "ipython",
    "version": 3
   },
   "file_extension": ".py",
   "mimetype": "text/x-python",
   "name": "python",
   "nbconvert_exporter": "python",
   "pygments_lexer": "ipython3",
   "version": "3.7.1"
  }
 },
 "nbformat": 4,
 "nbformat_minor": 2
}
